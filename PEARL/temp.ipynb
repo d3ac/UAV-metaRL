{
 "cells": [
  {
   "cell_type": "code",
   "execution_count": 1,
   "metadata": {},
   "outputs": [
    {
     "name": "stdout",
     "output_type": "stream",
     "text": [
      "新的张量形状： torch.Size([30, 7])\n"
     ]
    }
   ],
   "source": [
    "import torch\n",
    "\n",
    "# 假设 a 是一个包含三个形状为 (10, 7) 的张量的列表\n",
    "a = [torch.randn(10, 7), torch.randn(10, 7), torch.randn(10, 7)]\n",
    "\n",
    "# 使用 torch.cat() 连接张量\n",
    "concatenated_tensor = torch.cat(a, dim=0)\n",
    "\n",
    "# 打印新的张量形状\n",
    "print(\"新的张量形状：\", concatenated_tensor.shape)"
   ]
  },
  {
   "cell_type": "code",
   "execution_count": null,
   "metadata": {},
   "outputs": [],
   "source": []
  }
 ],
 "metadata": {
  "kernelspec": {
   "display_name": "base",
   "language": "python",
   "name": "python3"
  },
  "language_info": {
   "codemirror_mode": {
    "name": "ipython",
    "version": 3
   },
   "file_extension": ".py",
   "mimetype": "text/x-python",
   "name": "python",
   "nbconvert_exporter": "python",
   "pygments_lexer": "ipython3",
   "version": "3.8.13"
  }
 },
 "nbformat": 4,
 "nbformat_minor": 2
}
