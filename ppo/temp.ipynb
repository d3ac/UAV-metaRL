{
 "cells": [
  {
   "cell_type": "code",
   "execution_count": 2,
   "metadata": {},
   "outputs": [
    {
     "data": {
      "text/plain": [
       "'/home/d3ac/Desktop/uav env'"
      ]
     },
     "execution_count": 2,
     "metadata": {},
     "output_type": "execute_result"
    }
   ],
   "source": [
    "import os\n",
    "os.path.expanduser('~/Desktop/uav env')"
   ]
  },
  {
   "cell_type": "code",
   "execution_count": null,
   "metadata": {},
   "outputs": [],
   "source": [
    "tensor([[ 2.8908e-03,  6.4875e-04, -1.3042e-03,  ..., -1.3315e-03,\n",
    "          3.4063e-04, -1.0207e-03],\n",
    "        [ 1.3043e-03,  3.2959e-04, -5.3048e-04,  ..., -1.8338e-03,\n",
    "         -8.8975e-05, -1.3247e-04],\n",
    "        [ 5.8453e-03,  1.8424e-03, -5.2683e-03,  ..., -4.8916e-03,\n",
    "          2.0649e-03, -2.0611e-03],\n",
    "        ...,\n",
    "        [ 1.7003e-03,  2.6802e-04, -1.8803e-03,  ..., -5.8042e-04,\n",
    "          7.0535e-04, -6.9194e-04],\n",
    "        [ 7.9335e-03,  1.7324e-03, -1.6862e-03,  ..., -8.9423e-03,\n",
    "          2.2928e-03,  1.1203e-03],\n",
    "        [ 2.3258e-03,  2.1647e-03,  2.8619e-03,  ...,  3.6112e-04,\n",
    "         -5.5953e-05, -1.5826e-03]])"
   ]
  },
  {
   "cell_type": "code",
   "execution_count": null,
   "metadata": {},
   "outputs": [],
   "source": [
    "tensor([[ 2.8908e-03,  6.4875e-04, -1.3042e-03,  ..., -1.3315e-03,\n",
    "          3.4063e-04, -1.0207e-03],\n",
    "        [ 1.3043e-03,  3.2959e-04, -5.3048e-04,  ..., -1.8338e-03,\n",
    "         -8.8975e-05, -1.3247e-04],\n",
    "        [ 5.8453e-03,  1.8424e-03, -5.2683e-03,  ..., -4.8916e-03,\n",
    "          2.0649e-03, -2.0611e-03],\n",
    "        ...,\n",
    "        [ 1.7003e-03,  2.6802e-04, -1.8803e-03,  ..., -5.8042e-04,\n",
    "          7.0535e-04, -6.9194e-04],\n",
    "        [ 7.9335e-03,  1.7324e-03, -1.6862e-03,  ..., -8.9423e-03,\n",
    "          2.2928e-03,  1.1203e-03],\n",
    "        [ 2.3258e-03,  2.1647e-03,  2.8619e-03,  ...,  3.6112e-04,\n",
    "         -5.5953e-05, -1.5826e-03]])"
   ]
  }
 ],
 "metadata": {
  "kernelspec": {
   "display_name": "base",
   "language": "python",
   "name": "python3"
  },
  "language_info": {
   "codemirror_mode": {
    "name": "ipython",
    "version": 3
   },
   "file_extension": ".py",
   "mimetype": "text/x-python",
   "name": "python",
   "nbconvert_exporter": "python",
   "pygments_lexer": "ipython3",
   "version": "3.8.13"
  },
  "orig_nbformat": 4
 },
 "nbformat": 4,
 "nbformat_minor": 2
}
